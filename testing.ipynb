{
 "cells": [
  {
   "cell_type": "markdown",
   "id": "c78d87e5-eca8-4fa1-8372-6bc9ac6c2dd1",
   "metadata": {},
   "source": [
    "# Testing Only\n",
    "You can do any adhoc testing here before committing"
   ]
  },
  {
   "cell_type": "code",
   "execution_count": null,
   "id": "2609d9f8-90d5-4e05-aa37-a7c51ae41062",
   "metadata": {},
   "outputs": [],
   "source": []
  }
 ],
 "metadata": {
  "kernelspec": {
   "display_name": "Python 3",
   "language": "python",
   "name": "python3"
  },
  "language_info": {
   "codemirror_mode": {
    "name": "ipython",
    "version": 3
   },
   "file_extension": ".py",
   "mimetype": "text/x-python",
   "name": "python",
   "nbconvert_exporter": "python",
   "pygments_lexer": "ipython3",
   "version": "3.7.4"
  }
 },
 "nbformat": 4,
 "nbformat_minor": 5
}
